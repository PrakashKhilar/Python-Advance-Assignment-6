{
 "cells": [
  {
   "cell_type": "markdown",
   "id": "fa86ea65",
   "metadata": {},
   "source": [
    "# Advance Assignment-6"
   ]
  },
  {
   "cell_type": "code",
   "execution_count": 1,
   "id": "1aefc4e6",
   "metadata": {},
   "outputs": [],
   "source": [
    "# Q1. Describe three applications for exception processing."
   ]
  },
  {
   "cell_type": "code",
   "execution_count": null,
   "id": "32f1b951",
   "metadata": {},
   "outputs": [],
   "source": [
    "# Ans;\n",
    "\n",
    "# Ans;\n",
    "Exception Processing is important to find exceptions that causes the runtime error as runtime errors halt the program execution when exception occurs.\n",
    "\n",
    "Exception Processing is used in Various Applications. Few examples are:\n",
    "\n",
    "Checking Appropriate use of input in an application\n",
    "Checking for Arithmetic exceptions in mathematical executions\n",
    "Checking File I/O exceptions during File handling"
   ]
  },
  {
   "cell_type": "code",
   "execution_count": 2,
   "id": "84dc5f6c",
   "metadata": {},
   "outputs": [],
   "source": [
    "# Q2. What happens if you don't do something extra to treat an exception?"
   ]
  },
  {
   "cell_type": "code",
   "execution_count": null,
   "id": "c84d52b4",
   "metadata": {},
   "outputs": [],
   "source": [
    "# Ans;\n",
    "If Exceptions are not handled, flow of program will be broken during the run time which might lead to an abnormal termination of the program.\n",
    "Inshort inability of program to handle exceptions will result in crashing of program and we will not be able to get the desired result."
   ]
  },
  {
   "cell_type": "code",
   "execution_count": 4,
   "id": "0d5a8cc1",
   "metadata": {},
   "outputs": [],
   "source": [
    "#  Q3. What are your options for recovering from an exception in your script?"
   ]
  },
  {
   "cell_type": "code",
   "execution_count": null,
   "id": "46bfc126",
   "metadata": {},
   "outputs": [],
   "source": [
    "# Ans;\n",
    "Python provides try and except statements for recovering from an exception in our script."
   ]
  },
  {
   "cell_type": "code",
   "execution_count": 5,
   "id": "892b45a6",
   "metadata": {},
   "outputs": [
    {
     "name": "stdout",
     "output_type": "stream",
     "text": [
      "An exception occurred\n"
     ]
    }
   ],
   "source": [
    "try:\n",
    "  print(x)\n",
    "except:\n",
    "  print(\"An exception occurred\") "
   ]
  },
  {
   "cell_type": "code",
   "execution_count": 6,
   "id": "194554d5",
   "metadata": {},
   "outputs": [],
   "source": [
    "# Q4. Describe two methods for triggering exceptions in your script ?"
   ]
  },
  {
   "cell_type": "code",
   "execution_count": null,
   "id": "e44a8aaa",
   "metadata": {},
   "outputs": [],
   "source": [
    "# Ans;\n",
    "\n",
    "raise and assert are two methods that can be used to trigger manual exceptions in our script.\n",
    "\n",
    "raise method triggers an exception if condition provided to it turns out to be True.\n",
    "assert will let the program to continue execution if condition provided to it turns out to be True else exception will be raised"
   ]
  },
  {
   "cell_type": "code",
   "execution_count": null,
   "id": "ddbda29e",
   "metadata": {},
   "outputs": [],
   "source": [
    "# Example of raise\n",
    "x = 101\n",
    "raise Exception(f'X Value Should not exceed 5 The Provided Value of X is {x}')\n",
    "\n",
    "---------------------------------------------------------------------------\n",
    "Exception                                 Traceback (most recent call last)\n",
    " in ()\n",
    "      1 # Example of raise\n",
    "      2 x = 101\n",
    "----> 3 raise Exception(f'X Value Should not exceed 5 The Provided Value of X is {x}')\n",
    "\n",
    "Exception: X Value Should not exceed 5 The Provided Value of X is 101"
   ]
  },
  {
   "cell_type": "code",
   "execution_count": null,
   "id": "57249042",
   "metadata": {},
   "outputs": [],
   "source": [
    "# Example of assert\n",
    "assert(2==10), \"2 is not equal to 4\"\n",
    "\n",
    "---------------------------------------------------------------------------\n",
    "AssertionError                            Traceback (most recent call last)\n",
    " in ()\n",
    "      1 # Example of assert\n",
    "----> 2 assert(2==10), \"2 is not equal to 4\"\n",
    "\n",
    "AssertionError: 2 is not equal to 4"
   ]
  },
  {
   "cell_type": "code",
   "execution_count": null,
   "id": "56f256bb",
   "metadata": {},
   "outputs": [],
   "source": [
    "# Q5. Identify two methods for specifying actions to be executed at termination time, regardless of whether or not an exception exists."
   ]
  },
  {
   "cell_type": "code",
   "execution_count": null,
   "id": "e08133b3",
   "metadata": {},
   "outputs": [],
   "source": [
    "# Ans;\n",
    "\n",
    "Python Provides else and finally blocks for specifying actions to be executed at termination time, regardless of whether an exceptions exists or not."
   ]
  },
  {
   "cell_type": "code",
   "execution_count": null,
   "id": "15844430",
   "metadata": {},
   "outputs": [],
   "source": []
  }
 ],
 "metadata": {
  "kernelspec": {
   "display_name": "Python 3 (ipykernel)",
   "language": "python",
   "name": "python3"
  },
  "language_info": {
   "codemirror_mode": {
    "name": "ipython",
    "version": 3
   },
   "file_extension": ".py",
   "mimetype": "text/x-python",
   "name": "python",
   "nbconvert_exporter": "python",
   "pygments_lexer": "ipython3",
   "version": "3.9.12"
  }
 },
 "nbformat": 4,
 "nbformat_minor": 5
}
